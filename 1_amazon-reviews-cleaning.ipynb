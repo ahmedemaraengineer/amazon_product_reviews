{
 "cells": [
  {
   "cell_type": "code",
   "execution_count": 3,
   "metadata": {
    "execution": {
     "iopub.execute_input": "2022-05-16T12:56:05.633080Z",
     "iopub.status.busy": "2022-05-16T12:56:05.632450Z",
     "iopub.status.idle": "2022-05-16T12:56:06.751946Z",
     "shell.execute_reply": "2022-05-16T12:56:06.750812Z",
     "shell.execute_reply.started": "2022-05-16T12:56:05.633026Z"
    }
   },
   "outputs": [],
   "source": [
    "import pandas as pd \n",
    "import matplotlib.pyplot as plt\n",
    "import seaborn as sns "
   ]
  },
  {
   "cell_type": "code",
   "execution_count": 4,
   "metadata": {
    "execution": {
     "iopub.execute_input": "2022-05-16T12:56:07.993724Z",
     "iopub.status.busy": "2022-05-16T12:56:07.993367Z",
     "iopub.status.idle": "2022-05-16T12:56:16.097668Z",
     "shell.execute_reply": "2022-05-16T12:56:16.096871Z",
     "shell.execute_reply.started": "2022-05-16T12:56:07.993679Z"
    }
   },
   "outputs": [],
   "source": [
    "df = pd.read_csv('/kaggle/input/amazon-product-reviews/Reviews.csv')"
   ]
  },
  {
   "cell_type": "code",
   "execution_count": 5,
   "metadata": {
    "execution": {
     "iopub.execute_input": "2022-05-16T12:56:42.140869Z",
     "iopub.status.busy": "2022-05-16T12:56:42.140101Z",
     "iopub.status.idle": "2022-05-16T12:56:42.171035Z",
     "shell.execute_reply": "2022-05-16T12:56:42.169874Z",
     "shell.execute_reply.started": "2022-05-16T12:56:42.140822Z"
    }
   },
   "outputs": [],
   "source": [
    "df.head()"
   ]
  },
  {
   "cell_type": "code",
   "execution_count": 5,
   "metadata": {
    "execution": {
     "iopub.execute_input": "2022-05-16T12:01:35.091903Z",
     "iopub.status.busy": "2022-05-16T12:01:35.091517Z",
     "iopub.status.idle": "2022-05-16T12:01:35.500925Z",
     "shell.execute_reply": "2022-05-16T12:01:35.499470Z",
     "shell.execute_reply.started": "2022-05-16T12:01:35.091863Z"
    }
   },
   "outputs": [],
   "source": [
    "df.info()"
   ]
  },
  {
   "cell_type": "code",
   "execution_count": 7,
   "metadata": {
    "execution": {
     "iopub.execute_input": "2022-05-16T12:01:56.112946Z",
     "iopub.status.busy": "2022-05-16T12:01:56.111780Z",
     "iopub.status.idle": "2022-05-16T12:01:56.464843Z",
     "shell.execute_reply": "2022-05-16T12:01:56.463886Z",
     "shell.execute_reply.started": "2022-05-16T12:01:56.112888Z"
    }
   },
   "outputs": [],
   "source": [
    "df.isnull().sum()"
   ]
  },
  {
   "cell_type": "code",
   "execution_count": 8,
   "metadata": {
    "execution": {
     "iopub.execute_input": "2022-05-16T12:02:15.413894Z",
     "iopub.status.busy": "2022-05-16T12:02:15.413458Z",
     "iopub.status.idle": "2022-05-16T12:02:15.555977Z",
     "shell.execute_reply": "2022-05-16T12:02:15.554731Z",
     "shell.execute_reply.started": "2022-05-16T12:02:15.413851Z"
    }
   },
   "outputs": [],
   "source": [
    "df.describe()"
   ]
  },
  {
   "cell_type": "code",
   "execution_count": 6,
   "metadata": {
    "execution": {
     "iopub.execute_input": "2022-05-16T12:56:48.833156Z",
     "iopub.status.busy": "2022-05-16T12:56:48.832715Z",
     "iopub.status.idle": "2022-05-16T12:56:49.302910Z",
     "shell.execute_reply": "2022-05-16T12:56:49.301516Z",
     "shell.execute_reply.started": "2022-05-16T12:56:48.833101Z"
    }
   },
   "outputs": [],
   "source": [
    "df = df.dropna()"
   ]
  },
  {
   "cell_type": "markdown",
   "metadata": {},
   "source": [
    "## 1- Feature Extraction(1)\n",
    "* We will do some feature extraction before data cleaning as cleaning the data may cause losing some information\n",
    "### 1- Calculating the Number of Stop Words\n",
    "* A stop word is a commonly used word (such as “the”, “a”, “an”, “in”) that a search engine has been programmed to ignore"
   ]
  },
  {
   "cell_type": "code",
   "execution_count": 80,
   "metadata": {
    "execution": {
     "iopub.execute_input": "2022-05-16T14:09:21.024471Z",
     "iopub.status.busy": "2022-05-16T14:09:21.024096Z",
     "iopub.status.idle": "2022-05-16T14:09:32.444544Z",
     "shell.execute_reply": "2022-05-16T14:09:32.443560Z",
     "shell.execute_reply.started": "2022-05-16T14:09:21.024433Z"
    }
   },
   "outputs": [],
   "source": [
    "!pip install -q wordcloud"
   ]
  },
  {
   "cell_type": "code",
   "execution_count": 7,
   "metadata": {
    "execution": {
     "iopub.execute_input": "2022-05-16T12:56:52.221305Z",
     "iopub.status.busy": "2022-05-16T12:56:52.220732Z",
     "iopub.status.idle": "2022-05-16T12:56:53.597958Z",
     "shell.execute_reply": "2022-05-16T12:56:53.596143Z",
     "shell.execute_reply.started": "2022-05-16T12:56:52.221251Z"
    }
   },
   "outputs": [],
   "source": [
    "import wordcloud \n",
    "from nltk.corpus import stopwords\n",
    "import nltk\n",
    "import string\n",
    "nltk.download('stopwords')\n",
    "nltk.download('wordnet')\n",
    "nltk.download('punkt')\n",
    "nltk.download('average_perceptron_tagger')\n",
    "stop = stopwords.words('english')"
   ]
  },
  {
   "cell_type": "code",
   "execution_count": 8,
   "metadata": {
    "execution": {
     "iopub.execute_input": "2022-05-16T12:56:55.694023Z",
     "iopub.status.busy": "2022-05-16T12:56:55.693575Z",
     "iopub.status.idle": "2022-05-16T12:58:19.429960Z",
     "shell.execute_reply": "2022-05-16T12:58:19.428670Z",
     "shell.execute_reply.started": "2022-05-16T12:56:55.693979Z"
    }
   },
   "outputs": [],
   "source": [
    "df['stopwords'] = df['Text'].apply(lambda x: len([x for x in x.split() if x in stop]))\n",
    "df[['Text', 'stopwords']].head()"
   ]
  },
  {
   "cell_type": "markdown",
   "metadata": {},
   "source": [
    "### 2- Number of Punctuation\n",
    "another feature that can't be obtained after data cleaning "
   ]
  },
  {
   "cell_type": "code",
   "execution_count": 9,
   "metadata": {
    "execution": {
     "iopub.execute_input": "2022-05-16T12:58:28.718022Z",
     "iopub.status.busy": "2022-05-16T12:58:28.717690Z",
     "iopub.status.idle": "2022-05-16T12:58:48.976764Z",
     "shell.execute_reply": "2022-05-16T12:58:48.975831Z",
     "shell.execute_reply.started": "2022-05-16T12:58:28.717988Z"
    }
   },
   "outputs": [],
   "source": [
    "def count_punct(text):\n",
    "    count = sum([1 for char in text if char in string.punctuation])\n",
    "    return count\n",
    "\n",
    "df['punctuation'] = df['Text'].apply(lambda x: count_punct(x))"
   ]
  },
  {
   "cell_type": "code",
   "execution_count": 10,
   "metadata": {
    "execution": {
     "iopub.execute_input": "2022-05-16T12:58:51.886251Z",
     "iopub.status.busy": "2022-05-16T12:58:51.885880Z",
     "iopub.status.idle": "2022-05-16T12:58:51.947171Z",
     "shell.execute_reply": "2022-05-16T12:58:51.946308Z",
     "shell.execute_reply.started": "2022-05-16T12:58:51.886200Z"
    }
   },
   "outputs": [],
   "source": [
    "df[['Text', 'punctuation', 'stopwords']].head()"
   ]
  },
  {
   "cell_type": "markdown",
   "metadata": {},
   "source": [
    "### 3- Number of Hashtag Characters\n",
    "as the hashtags are important we will keep it before data cleaning process"
   ]
  },
  {
   "cell_type": "code",
   "execution_count": 11,
   "metadata": {
    "execution": {
     "iopub.execute_input": "2022-05-16T12:58:58.969364Z",
     "iopub.status.busy": "2022-05-16T12:58:58.968683Z",
     "iopub.status.idle": "2022-05-16T12:59:07.942181Z",
     "shell.execute_reply": "2022-05-16T12:59:07.941178Z",
     "shell.execute_reply.started": "2022-05-16T12:58:58.969317Z"
    }
   },
   "outputs": [],
   "source": [
    "df['hashtags'] = df['Text'].apply(lambda x: len([x for x in x.split() if x.startswith('#')]))\n",
    "df[['Text', 'hashtags']].head()"
   ]
  },
  {
   "cell_type": "code",
   "execution_count": 12,
   "metadata": {
    "execution": {
     "iopub.execute_input": "2022-05-16T12:59:10.400415Z",
     "iopub.status.busy": "2022-05-16T12:59:10.400059Z",
     "iopub.status.idle": "2022-05-16T12:59:10.410026Z",
     "shell.execute_reply": "2022-05-16T12:59:10.408540Z",
     "shell.execute_reply.started": "2022-05-16T12:59:10.400373Z"
    }
   },
   "outputs": [],
   "source": [
    "(df.hashtags > 0).sum()"
   ]
  },
  {
   "cell_type": "markdown",
   "metadata": {},
   "source": [
    "### Number of Numeric Characters\n",
    "this feature might be helpful "
   ]
  },
  {
   "cell_type": "code",
   "execution_count": 13,
   "metadata": {
    "execution": {
     "iopub.execute_input": "2022-05-16T12:59:13.353721Z",
     "iopub.status.busy": "2022-05-16T12:59:13.353309Z",
     "iopub.status.idle": "2022-05-16T12:59:19.543768Z",
     "shell.execute_reply": "2022-05-16T12:59:19.542323Z",
     "shell.execute_reply.started": "2022-05-16T12:59:13.353678Z"
    }
   },
   "outputs": [],
   "source": [
    "df['numerics'] = df['Text'].apply(lambda x: len([i for i in x.split() if i.isdigit()]))\n",
    "df[['Text', 'numerics']].head()"
   ]
  },
  {
   "cell_type": "markdown",
   "metadata": {},
   "source": [
    "### 5- Number of Uppercase Words \n",
    "Emotions like anger, rage are quiet often expressed by uppercase words which makes it necessary to be noticed."
   ]
  },
  {
   "cell_type": "code",
   "execution_count": 14,
   "metadata": {
    "execution": {
     "iopub.execute_input": "2022-05-16T12:59:22.512370Z",
     "iopub.status.busy": "2022-05-16T12:59:22.512052Z",
     "iopub.status.idle": "2022-05-16T12:59:28.773144Z",
     "shell.execute_reply": "2022-05-16T12:59:28.772270Z",
     "shell.execute_reply.started": "2022-05-16T12:59:22.512340Z"
    }
   },
   "outputs": [],
   "source": [
    "df['upper'] = df.Text.apply(lambda x: len([i for i in x.split() if i.isupper()]))\n",
    "df[['Text', 'upper']].head()"
   ]
  },
  {
   "cell_type": "markdown",
   "metadata": {},
   "source": [
    "## 2- Text Cleaning\n",
    "\n",
    "### 1- Make the whole text lowercase "
   ]
  },
  {
   "cell_type": "code",
   "execution_count": 16,
   "metadata": {
    "execution": {
     "iopub.execute_input": "2022-05-16T13:00:36.575925Z",
     "iopub.status.busy": "2022-05-16T13:00:36.575152Z",
     "iopub.status.idle": "2022-05-16T13:00:47.932956Z",
     "shell.execute_reply": "2022-05-16T13:00:47.931870Z",
     "shell.execute_reply.started": "2022-05-16T13:00:36.575842Z"
    }
   },
   "outputs": [],
   "source": [
    "df['Text'] = df['Text'].apply(lambda x: \" \".join(i.lower() for i in x.split()))\n",
    "df['Text'].head()"
   ]
  },
  {
   "cell_type": "markdown",
   "metadata": {},
   "source": [
    "### 2- Removing Punctuation\n",
    "punctuation creates noise in the data "
   ]
  },
  {
   "cell_type": "code",
   "execution_count": 21,
   "metadata": {
    "execution": {
     "iopub.execute_input": "2022-05-16T13:05:05.172110Z",
     "iopub.status.busy": "2022-05-16T13:05:05.171616Z",
     "iopub.status.idle": "2022-05-16T13:05:16.897042Z",
     "shell.execute_reply": "2022-05-16T13:05:16.896007Z",
     "shell.execute_reply.started": "2022-05-16T13:05:05.172061Z"
    }
   },
   "outputs": [],
   "source": [
    "df['Text'] = df['Text'].str.replace('[^\\w\\s]', '')\n",
    "df.Text.head()"
   ]
  },
  {
   "cell_type": "markdown",
   "metadata": {},
   "source": [
    "### 3- Removing Stop Words\n"
   ]
  },
  {
   "cell_type": "code",
   "execution_count": 23,
   "metadata": {
    "execution": {
     "iopub.execute_input": "2022-05-16T13:07:48.143120Z",
     "iopub.status.busy": "2022-05-16T13:07:48.142784Z",
     "iopub.status.idle": "2022-05-16T13:09:06.402480Z",
     "shell.execute_reply": "2022-05-16T13:09:06.401359Z",
     "shell.execute_reply.started": "2022-05-16T13:07:48.143083Z"
    }
   },
   "outputs": [],
   "source": [
    "df['Text'] = df.Text.apply(lambda x: \" \".join(i for i in x.split() if i not in stop))\n",
    "df.Text.sample(10)"
   ]
  },
  {
   "cell_type": "markdown",
   "metadata": {},
   "source": [
    "### Adding your own stopwords\n",
    "Checking the most frequent words"
   ]
  },
  {
   "cell_type": "code",
   "execution_count": 73,
   "metadata": {
    "execution": {
     "iopub.execute_input": "2022-05-16T14:02:32.381880Z",
     "iopub.status.busy": "2022-05-16T14:02:32.381561Z",
     "iopub.status.idle": "2022-05-16T14:02:44.675947Z",
     "shell.execute_reply": "2022-05-16T14:02:44.674693Z",
     "shell.execute_reply.started": "2022-05-16T14:02:32.381850Z"
    }
   },
   "outputs": [],
   "source": [
    "freq = pd.Series(' '.join(df['Text']).split()).value_counts()[:20]"
   ]
  },
  {
   "cell_type": "code",
   "execution_count": 74,
   "metadata": {
    "execution": {
     "iopub.execute_input": "2022-05-16T14:02:57.218583Z",
     "iopub.status.busy": "2022-05-16T14:02:57.218210Z",
     "iopub.status.idle": "2022-05-16T14:02:57.228306Z",
     "shell.execute_reply": "2022-05-16T14:02:57.227167Z",
     "shell.execute_reply.started": "2022-05-16T14:02:57.218548Z"
    }
   },
   "outputs": [],
   "source": [
    "freq"
   ]
  },
  {
   "cell_type": "code",
   "execution_count": 70,
   "metadata": {
    "execution": {
     "iopub.execute_input": "2022-05-16T13:56:27.134975Z",
     "iopub.status.busy": "2022-05-16T13:56:27.134603Z",
     "iopub.status.idle": "2022-05-16T13:56:34.051210Z",
     "shell.execute_reply": "2022-05-16T13:56:34.050166Z",
     "shell.execute_reply.started": "2022-05-16T13:56:27.134938Z"
    }
   },
   "outputs": [],
   "source": [
    "# Adding common words from our document to stop_words\n",
    "add_words = [\"br\", \"get\", \"also\"]\n",
    "stop_words = set(stopwords.words(\"english\"))\n",
    "stop_added = stop_words.union(add_words)\n",
    "df['Text'] = df['Text'].apply(lambda x: \" \".join(x for x in x.split() if x not in stop_added))\n",
    "df['Text'].sample(10)"
   ]
  },
  {
   "cell_type": "markdown",
   "metadata": {},
   "source": [
    "### 4- Removing URLs"
   ]
  },
  {
   "cell_type": "code",
   "execution_count": 26,
   "metadata": {
    "execution": {
     "iopub.execute_input": "2022-05-16T13:10:35.502083Z",
     "iopub.status.busy": "2022-05-16T13:10:35.501698Z",
     "iopub.status.idle": "2022-05-16T13:10:35.508076Z",
     "shell.execute_reply": "2022-05-16T13:10:35.507011Z",
     "shell.execute_reply.started": "2022-05-16T13:10:35.502040Z"
    }
   },
   "outputs": [],
   "source": [
    "import re\n",
    "import string\n",
    "def remove_url(text):\n",
    "    url = re.compile(r'https?://\\S+|www\\.\\S+')\n",
    "    return url.sub(r'', text)"
   ]
  },
  {
   "cell_type": "code",
   "execution_count": 27,
   "metadata": {
    "execution": {
     "iopub.execute_input": "2022-05-16T13:10:36.898936Z",
     "iopub.status.busy": "2022-05-16T13:10:36.898282Z",
     "iopub.status.idle": "2022-05-16T13:10:42.030869Z",
     "shell.execute_reply": "2022-05-16T13:10:42.029954Z",
     "shell.execute_reply.started": "2022-05-16T13:10:36.898866Z"
    }
   },
   "outputs": [],
   "source": [
    "# remove all urls from df\n",
    "df['Text'] = df['Text'].apply(lambda x: remove_url(x))"
   ]
  },
  {
   "cell_type": "markdown",
   "metadata": {},
   "source": [
    "### 5- Removing HTML tags"
   ]
  },
  {
   "cell_type": "code",
   "execution_count": 28,
   "metadata": {
    "execution": {
     "iopub.execute_input": "2022-05-16T13:11:01.798196Z",
     "iopub.status.busy": "2022-05-16T13:11:01.797796Z",
     "iopub.status.idle": "2022-05-16T13:11:01.806157Z",
     "shell.execute_reply": "2022-05-16T13:11:01.804261Z",
     "shell.execute_reply.started": "2022-05-16T13:11:01.798153Z"
    }
   },
   "outputs": [],
   "source": [
    "def remove_html(text):\n",
    "    html=re.compile(r'<.*?>')\n",
    "    return html.sub(r'',text)"
   ]
  },
  {
   "cell_type": "code",
   "execution_count": 29,
   "metadata": {
    "execution": {
     "iopub.execute_input": "2022-05-16T13:11:06.722838Z",
     "iopub.status.busy": "2022-05-16T13:11:06.721690Z",
     "iopub.status.idle": "2022-05-16T13:11:07.688573Z",
     "shell.execute_reply": "2022-05-16T13:11:07.687410Z",
     "shell.execute_reply.started": "2022-05-16T13:11:06.722785Z"
    }
   },
   "outputs": [],
   "source": [
    "# remove all html tags from df\n",
    "df['Text'] = df['Text'].apply(lambda x: remove_html(x))"
   ]
  },
  {
   "cell_type": "markdown",
   "metadata": {},
   "source": [
    "### 6- removing Emojis"
   ]
  },
  {
   "cell_type": "code",
   "execution_count": 30,
   "metadata": {
    "execution": {
     "iopub.execute_input": "2022-05-16T13:11:33.626046Z",
     "iopub.status.busy": "2022-05-16T13:11:33.625585Z",
     "iopub.status.idle": "2022-05-16T13:11:33.634144Z",
     "shell.execute_reply": "2022-05-16T13:11:33.632724Z",
     "shell.execute_reply.started": "2022-05-16T13:11:33.626000Z"
    }
   },
   "outputs": [],
   "source": [
    "# Reference : https://gist.github.com/slowkow/7a7f61f495e3dbb7e3d767f97bd7304b\n",
    "def remove_emoji(text):\n",
    "    emoji_pattern = re.compile(\"[\"\n",
    "                           u\"\\U0001F600-\\U0001F64F\"  # emoticons\n",
    "                           u\"\\U0001F300-\\U0001F5FF\"  # symbols & pictographs\n",
    "                           u\"\\U0001F680-\\U0001F6FF\"  # transport & map symbols\n",
    "                           u\"\\U0001F1E0-\\U0001F1FF\"  # flags \n",
    "                           u\"\\U00002702-\\U000027B0\"\n",
    "                           u\"\\U000024C2-\\U0001F251\"\n",
    "                           \"]+\", flags=re.UNICODE)\n",
    "    return emoji_pattern.sub(r'', text)"
   ]
  },
  {
   "cell_type": "code",
   "execution_count": 31,
   "metadata": {
    "execution": {
     "iopub.execute_input": "2022-05-16T13:11:42.966970Z",
     "iopub.status.busy": "2022-05-16T13:11:42.966610Z",
     "iopub.status.idle": "2022-05-16T13:11:42.979170Z",
     "shell.execute_reply": "2022-05-16T13:11:42.977789Z",
     "shell.execute_reply.started": "2022-05-16T13:11:42.966934Z"
    }
   },
   "outputs": [],
   "source": [
    "#Example\n",
    "remove_emoji(\"Omg another Earthquake 😔😔\")"
   ]
  },
  {
   "cell_type": "code",
   "execution_count": 32,
   "metadata": {
    "execution": {
     "iopub.execute_input": "2022-05-16T13:11:51.378805Z",
     "iopub.status.busy": "2022-05-16T13:11:51.377364Z",
     "iopub.status.idle": "2022-05-16T13:12:02.509856Z",
     "shell.execute_reply": "2022-05-16T13:12:02.508523Z",
     "shell.execute_reply.started": "2022-05-16T13:11:51.378724Z"
    }
   },
   "outputs": [],
   "source": [
    "# remove all emojis from df\n",
    "df['Text'] = df['Text'].apply(lambda x: remove_emoji(x))"
   ]
  },
  {
   "cell_type": "markdown",
   "metadata": {},
   "source": [
    "### 7- Removing Emoticons\n",
    "* __Emoji__ : 😔\n",
    "* __Emoticon__ : :-)"
   ]
  },
  {
   "cell_type": "code",
   "execution_count": 68,
   "metadata": {
    "execution": {
     "iopub.execute_input": "2022-05-16T13:43:13.314493Z",
     "iopub.status.busy": "2022-05-16T13:43:13.313303Z",
     "iopub.status.idle": "2022-05-16T13:43:13.342578Z",
     "shell.execute_reply": "2022-05-16T13:43:13.340962Z",
     "shell.execute_reply.started": "2022-05-16T13:43:13.314409Z"
    }
   },
   "outputs": [],
   "source": [
    "import re\n",
    "try:\n",
    "    import cPickle as pickle\n",
    "except ImportError:\n",
    "    import pickle  \n",
    "\n",
    "with open('../input/emoticons/Emoticon_Dict.p', 'rb') as fp:\n",
    "    Emoticon_Dict = pickle.load(fp)\n",
    "\n",
    "def remove_emoticons(text):\n",
    "    emoticon_pattern = re.compile(u'(' + u'|'.join(k for k in Emoticon_Dict) + u')')\n",
    "    return emoticon_pattern.sub(r'', text)\n",
    "\n",
    "remove_emoticons(\"Good Morning :-)\")"
   ]
  },
  {
   "cell_type": "code",
   "execution_count": 69,
   "metadata": {
    "execution": {
     "iopub.execute_input": "2022-05-16T13:44:10.002621Z",
     "iopub.status.busy": "2022-05-16T13:44:10.002157Z",
     "iopub.status.idle": "2022-05-16T13:46:25.415817Z",
     "shell.execute_reply": "2022-05-16T13:46:25.414651Z",
     "shell.execute_reply.started": "2022-05-16T13:44:10.002575Z"
    }
   },
   "outputs": [],
   "source": [
    "df['Text'] = df['Text'].apply(lambda x: remove_emoticons(x))"
   ]
  },
  {
   "cell_type": "markdown",
   "metadata": {},
   "source": [
    "### 8- Spell Correction"
   ]
  },
  {
   "cell_type": "code",
   "execution_count": 75,
   "metadata": {
    "execution": {
     "iopub.execute_input": "2022-05-16T14:05:42.709343Z",
     "iopub.status.busy": "2022-05-16T14:05:42.708773Z",
     "iopub.status.idle": "2022-05-16T14:05:46.549859Z",
     "shell.execute_reply": "2022-05-16T14:05:46.548515Z",
     "shell.execute_reply.started": "2022-05-16T14:05:42.709296Z"
    }
   },
   "outputs": [],
   "source": [
    "from textblob import TextBlob\n",
    "df.Text[:5].apply(lambda x: str(TextBlob(x).correct()))"
   ]
  },
  {
   "cell_type": "code",
   "execution_count": 76,
   "metadata": {
    "execution": {
     "iopub.execute_input": "2022-05-16T14:07:16.292617Z",
     "iopub.status.busy": "2022-05-16T14:07:16.291221Z",
     "iopub.status.idle": "2022-05-16T14:07:16.300494Z",
     "shell.execute_reply": "2022-05-16T14:07:16.299494Z",
     "shell.execute_reply.started": "2022-05-16T14:07:16.292524Z"
    }
   },
   "outputs": [],
   "source": [
    "# We could do some of the cleaning steps as a sum of opreation like this:\n",
    "\n",
    "# Apply a first round of text cleaning techniques\n",
    "import re\n",
    "import string\n",
    "\n",
    "def clean_text_round1(text):\n",
    "    '''Make text lowercase, remove text in square brackets, remove punctuation and remove words containing numbers.'''\n",
    "    text = text.lower()\n",
    "    text = re.sub('\\[.*?\\]', '', text)\n",
    "    text = re.sub('[%s]' % re.escape(string.punctuation), '', text)\n",
    "    text = re.sub('\\w*\\d\\w*', '', text)\n",
    "    return text\n",
    "\n",
    "round1 = lambda x: clean_text_round1(x)"
   ]
  },
  {
   "cell_type": "code",
   "execution_count": 77,
   "metadata": {
    "execution": {
     "iopub.execute_input": "2022-05-16T14:07:22.830158Z",
     "iopub.status.busy": "2022-05-16T14:07:22.828637Z",
     "iopub.status.idle": "2022-05-16T14:08:06.342586Z",
     "shell.execute_reply": "2022-05-16T14:08:06.341153Z",
     "shell.execute_reply.started": "2022-05-16T14:07:22.830093Z"
    }
   },
   "outputs": [],
   "source": [
    "df['Text'] = df.Text.apply(round1)\n",
    "df.Text"
   ]
  },
  {
   "cell_type": "code",
   "execution_count": 78,
   "metadata": {
    "execution": {
     "iopub.execute_input": "2022-05-16T14:08:14.572480Z",
     "iopub.status.busy": "2022-05-16T14:08:14.572071Z",
     "iopub.status.idle": "2022-05-16T14:08:14.580519Z",
     "shell.execute_reply": "2022-05-16T14:08:14.579256Z",
     "shell.execute_reply.started": "2022-05-16T14:08:14.572441Z"
    }
   },
   "outputs": [],
   "source": [
    "# Apply a second round of cleaning\n",
    "def clean_text_round2(text):\n",
    "    '''Get rid of some additional punctuation and non-sensical text that was missed the first time around.'''\n",
    "    text = re.sub('[‘’“”…]', '', text)\n",
    "    text = re.sub('\\n', '', text)\n",
    "    return text\n",
    "\n",
    "round2 = lambda x: clean_text_round2(x)"
   ]
  },
  {
   "cell_type": "code",
   "execution_count": 79,
   "metadata": {
    "execution": {
     "iopub.execute_input": "2022-05-16T14:08:15.221016Z",
     "iopub.status.busy": "2022-05-16T14:08:15.219914Z",
     "iopub.status.idle": "2022-05-16T14:08:19.621589Z",
     "shell.execute_reply": "2022-05-16T14:08:19.620675Z",
     "shell.execute_reply.started": "2022-05-16T14:08:15.220952Z"
    }
   },
   "outputs": [],
   "source": [
    "df['Text'] = df.Text.apply(round2)\n",
    "df.Text"
   ]
  },
  {
   "cell_type": "markdown",
   "metadata": {},
   "source": [
    "## 3- Feature Extraction(2)\n",
    "some features will be extracted after text cleaning because they are more meaningful to be obtained at this step \n",
    "\n",
    "### 1- Number of Words"
   ]
  },
  {
   "cell_type": "code",
   "execution_count": 83,
   "metadata": {
    "execution": {
     "iopub.execute_input": "2022-05-16T14:12:35.977007Z",
     "iopub.status.busy": "2022-05-16T14:12:35.975866Z",
     "iopub.status.idle": "2022-05-16T14:12:37.982877Z",
     "shell.execute_reply": "2022-05-16T14:12:37.981970Z",
     "shell.execute_reply.started": "2022-05-16T14:12:35.976950Z"
    }
   },
   "outputs": [],
   "source": [
    "df['word_count'] = df['Text'].apply(lambda x: len(str(x).split(\" \")))"
   ]
  },
  {
   "cell_type": "code",
   "execution_count": 84,
   "metadata": {
    "execution": {
     "iopub.execute_input": "2022-05-16T14:12:58.612247Z",
     "iopub.status.busy": "2022-05-16T14:12:58.611583Z",
     "iopub.status.idle": "2022-05-16T14:12:58.754775Z",
     "shell.execute_reply": "2022-05-16T14:12:58.753729Z",
     "shell.execute_reply.started": "2022-05-16T14:12:58.612202Z"
    }
   },
   "outputs": [],
   "source": [
    "df[['Text', 'word_count']].head()"
   ]
  },
  {
   "cell_type": "markdown",
   "metadata": {},
   "source": [
    "### 2- Number of Characters"
   ]
  },
  {
   "cell_type": "code",
   "execution_count": 87,
   "metadata": {
    "execution": {
     "iopub.execute_input": "2022-05-16T14:14:49.451800Z",
     "iopub.status.busy": "2022-05-16T14:14:49.450489Z",
     "iopub.status.idle": "2022-05-16T14:14:50.081991Z",
     "shell.execute_reply": "2022-05-16T14:14:50.080775Z",
     "shell.execute_reply.started": "2022-05-16T14:14:49.451729Z"
    }
   },
   "outputs": [],
   "source": [
    "df['char_count'] = df['Text'].str.len()"
   ]
  },
  {
   "cell_type": "code",
   "execution_count": 90,
   "metadata": {
    "execution": {
     "iopub.execute_input": "2022-05-16T14:15:18.178000Z",
     "iopub.status.busy": "2022-05-16T14:15:18.177704Z",
     "iopub.status.idle": "2022-05-16T14:15:18.206582Z",
     "shell.execute_reply": "2022-05-16T14:15:18.204904Z",
     "shell.execute_reply.started": "2022-05-16T14:15:18.177972Z"
    }
   },
   "outputs": [],
   "source": [
    "df[['Text', 'char_count']].head()"
   ]
  },
  {
   "cell_type": "markdown",
   "metadata": {},
   "source": [
    "### 3- Average Word Length"
   ]
  },
  {
   "cell_type": "code",
   "execution_count": 91,
   "metadata": {
    "execution": {
     "iopub.execute_input": "2022-05-16T14:19:05.013235Z",
     "iopub.status.busy": "2022-05-16T14:19:05.011753Z",
     "iopub.status.idle": "2022-05-16T14:19:05.019236Z",
     "shell.execute_reply": "2022-05-16T14:19:05.018520Z",
     "shell.execute_reply.started": "2022-05-16T14:19:05.013182Z"
    }
   },
   "outputs": [],
   "source": [
    "def avg_word(text):\n",
    "    words = text.split()\n",
    "    return (sum(len(word) for word in words) / (len(words) + 1e-6))"
   ]
  },
  {
   "cell_type": "code",
   "execution_count": 92,
   "metadata": {
    "execution": {
     "iopub.execute_input": "2022-05-16T14:19:57.666917Z",
     "iopub.status.busy": "2022-05-16T14:19:57.666461Z",
     "iopub.status.idle": "2022-05-16T14:20:01.813049Z",
     "shell.execute_reply": "2022-05-16T14:20:01.812224Z",
     "shell.execute_reply.started": "2022-05-16T14:19:57.666874Z"
    }
   },
   "outputs": [],
   "source": [
    "df['avg_word'] = df.Text.apply(lambda x: avg_word(x)).round(1)\n",
    "df[['Text', 'avg_word']].head()"
   ]
  },
  {
   "cell_type": "code",
   "execution_count": 93,
   "metadata": {
    "execution": {
     "iopub.execute_input": "2022-05-16T14:20:21.151016Z",
     "iopub.status.busy": "2022-05-16T14:20:21.150417Z",
     "iopub.status.idle": "2022-05-16T14:20:21.172605Z",
     "shell.execute_reply": "2022-05-16T14:20:21.170906Z",
     "shell.execute_reply.started": "2022-05-16T14:20:21.150970Z"
    }
   },
   "outputs": [],
   "source": [
    "df.head(3)"
   ]
  },
  {
   "cell_type": "code",
   "execution_count": 94,
   "metadata": {
    "execution": {
     "iopub.execute_input": "2022-05-16T14:21:30.657992Z",
     "iopub.status.busy": "2022-05-16T14:21:30.656901Z",
     "iopub.status.idle": "2022-05-16T14:21:30.736237Z",
     "shell.execute_reply": "2022-05-16T14:21:30.734235Z",
     "shell.execute_reply.started": "2022-05-16T14:21:30.657932Z"
    }
   },
   "outputs": [],
   "source": [
    "df.Time = pd.to_datetime(df.Time, unit='s')\n",
    "df.head()"
   ]
  },
  {
   "cell_type": "code",
   "execution_count": 95,
   "metadata": {
    "execution": {
     "iopub.execute_input": "2022-05-16T14:22:10.120360Z",
     "iopub.status.busy": "2022-05-16T14:22:10.119975Z",
     "iopub.status.idle": "2022-05-16T14:22:10.211484Z",
     "shell.execute_reply": "2022-05-16T14:22:10.210189Z",
     "shell.execute_reply.started": "2022-05-16T14:22:10.120325Z"
    }
   },
   "outputs": [],
   "source": [
    "df = df.drop('ProfileName', axis = 1)"
   ]
  },
  {
   "cell_type": "markdown",
   "metadata": {},
   "source": [
    "### Applying round1 and round2 of cleaning on 'Summary' Feature"
   ]
  },
  {
   "cell_type": "code",
   "execution_count": 97,
   "metadata": {
    "execution": {
     "iopub.execute_input": "2022-05-16T14:24:19.649609Z",
     "iopub.status.busy": "2022-05-16T14:24:19.649003Z",
     "iopub.status.idle": "2022-05-16T14:24:27.321647Z",
     "shell.execute_reply": "2022-05-16T14:24:27.320628Z",
     "shell.execute_reply.started": "2022-05-16T14:24:19.649555Z"
    }
   },
   "outputs": [],
   "source": [
    "df.Summary = df.Summary.apply(round1)\n",
    "df.Summary"
   ]
  },
  {
   "cell_type": "code",
   "execution_count": 98,
   "metadata": {
    "execution": {
     "iopub.execute_input": "2022-05-16T14:24:57.384380Z",
     "iopub.status.busy": "2022-05-16T14:24:57.384066Z",
     "iopub.status.idle": "2022-05-16T14:24:59.236759Z",
     "shell.execute_reply": "2022-05-16T14:24:59.235606Z",
     "shell.execute_reply.started": "2022-05-16T14:24:57.384346Z"
    }
   },
   "outputs": [],
   "source": [
    "df.Summary = df.Summary.apply(round2)\n",
    "df.Summary"
   ]
  },
  {
   "cell_type": "code",
   "execution_count": null,
   "metadata": {},
   "outputs": [],
   "source": []
  }
 ],
 "metadata": {
  "kernelspec": {
   "display_name": "Python 3",
   "language": "python",
   "name": "python3"
  },
  "language_info": {
   "codemirror_mode": {
    "name": "ipython",
    "version": 3
   },
   "file_extension": ".py",
   "mimetype": "text/x-python",
   "name": "python",
   "nbconvert_exporter": "python",
   "pygments_lexer": "ipython3",
   "version": "3.8.8"
  }
 },
 "nbformat": 4,
 "nbformat_minor": 4
}
