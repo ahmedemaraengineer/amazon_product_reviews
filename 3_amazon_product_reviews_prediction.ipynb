{
  "nbformat": 4,
  "nbformat_minor": 0,
  "metadata": {
    "colab": {
      "name": "1_amazon_product_reviews.ipynb",
      "provenance": []
    },
    "kernelspec": {
      "name": "python3",
      "display_name": "Python 3"
    },
    "language_info": {
      "name": "python"
    },
    "accelerator": "GPU"
  },
  "cells": [
    {
      "cell_type": "code",
      "source": [
        "from google.colab import drive \n",
        "drive.mount('/content/drive')"
      ],
      "metadata": {
        "colab": {
          "base_uri": "https://localhost:8080/"
        },
        "id": "3HK_WC2CfiKA",
        "outputId": "8244fb95-f3e8-41b1-a91b-fec7f47c04ec"
      },
      "execution_count": 1,
      "outputs": [
        {
          "output_type": "stream",
          "name": "stdout",
          "text": [
            "Drive already mounted at /content/drive; to attempt to forcibly remount, call drive.mount(\"/content/drive\", force_remount=True).\n"
          ]
        }
      ]
    },
    {
      "cell_type": "code",
      "execution_count": 2,
      "metadata": {
        "id": "wJFm46TrNmuy"
      },
      "outputs": [],
      "source": [
        "import pandas as pd\n",
        "import numpy as np\n",
        "import matplotlib.pyplot as plt\n",
        "import seaborn as sns"
      ]
    },
    {
      "cell_type": "code",
      "source": [
        "DATA = '/content/drive/MyDrive/Datasets/amazon_reviews_processed_2.csv'\n",
        "df = pd.read_csv(DATA)\n",
        "df.head()"
      ],
      "metadata": {
        "id": "gCaIYRhJqUsr",
        "colab": {
          "base_uri": "https://localhost:8080/",
          "height": 652
        },
        "outputId": "e9c4e32e-a09d-44d3-ed5e-06ab24b350bb"
      },
      "execution_count": 3,
      "outputs": [
        {
          "output_type": "execute_result",
          "data": {
            "text/plain": [
              "   Id   ProductId          UserId  HelpfulnessNumerator  \\\n",
              "0   1  B001E4KFG0  A3SGXH7AUHU8GW                     1   \n",
              "1   2  B00813GRG4  A1D87F6ZCVE5NK                     0   \n",
              "2   3  B000LQOCH0   ABXLMWJIXXAIN                     1   \n",
              "3   4  B000UA0QIQ  A395BORC6FGVXV                     3   \n",
              "4   5  B006K2ZZ7K  A1UQRSCLF8GW1T                     0   \n",
              "\n",
              "   HelpfulnessDenominator  Score        Time                Summary  \\\n",
              "0                       1      5  2011-04-27  good quality dog food   \n",
              "1                       0      1  2012-09-07      not as advertised   \n",
              "2                       1      4  2008-08-18    delight says it all   \n",
              "3                       3      2  2011-06-13         cough medicine   \n",
              "4                       0      5  2012-10-21            great taffy   \n",
              "\n",
              "                                                Text  stopwords  punctuation  \\\n",
              "0  bought several vitality canned dog food produc...         21            3   \n",
              "1  product arrived labeled jumbo salted peanutsth...         12            7   \n",
              "2  confection around centuries light pillowy citr...         42           18   \n",
              "3  looking secret ingredient robitussin believe f...         15            5   \n",
              "4  great taffy great price wide assortment yummy ...         12            5   \n",
              "\n",
              "   hashtags  numerics  upper  word_count  char_count  avg_word  polarity  \\\n",
              "0         0         0      1          23         164       6.2      0.42   \n",
              "1         0         0      0          18         136       6.6      0.22   \n",
              "2         0         0      2          40         285       6.1      0.19   \n",
              "3         0         0      4          18         128       6.2      0.15   \n",
              "4         0         0      0          13          83       5.5      0.46   \n",
              "\n",
              "   subjectivity  Good_reviews  \n",
              "0          0.40             1  \n",
              "1          0.76             0  \n",
              "2          0.55             1  \n",
              "3          0.65             0  \n",
              "4          0.60             1  "
            ],
            "text/html": [
              "\n",
              "  <div id=\"df-13ebb27e-079b-4115-88ca-99a1896ff703\">\n",
              "    <div class=\"colab-df-container\">\n",
              "      <div>\n",
              "<style scoped>\n",
              "    .dataframe tbody tr th:only-of-type {\n",
              "        vertical-align: middle;\n",
              "    }\n",
              "\n",
              "    .dataframe tbody tr th {\n",
              "        vertical-align: top;\n",
              "    }\n",
              "\n",
              "    .dataframe thead th {\n",
              "        text-align: right;\n",
              "    }\n",
              "</style>\n",
              "<table border=\"1\" class=\"dataframe\">\n",
              "  <thead>\n",
              "    <tr style=\"text-align: right;\">\n",
              "      <th></th>\n",
              "      <th>Id</th>\n",
              "      <th>ProductId</th>\n",
              "      <th>UserId</th>\n",
              "      <th>HelpfulnessNumerator</th>\n",
              "      <th>HelpfulnessDenominator</th>\n",
              "      <th>Score</th>\n",
              "      <th>Time</th>\n",
              "      <th>Summary</th>\n",
              "      <th>Text</th>\n",
              "      <th>stopwords</th>\n",
              "      <th>punctuation</th>\n",
              "      <th>hashtags</th>\n",
              "      <th>numerics</th>\n",
              "      <th>upper</th>\n",
              "      <th>word_count</th>\n",
              "      <th>char_count</th>\n",
              "      <th>avg_word</th>\n",
              "      <th>polarity</th>\n",
              "      <th>subjectivity</th>\n",
              "      <th>Good_reviews</th>\n",
              "    </tr>\n",
              "  </thead>\n",
              "  <tbody>\n",
              "    <tr>\n",
              "      <th>0</th>\n",
              "      <td>1</td>\n",
              "      <td>B001E4KFG0</td>\n",
              "      <td>A3SGXH7AUHU8GW</td>\n",
              "      <td>1</td>\n",
              "      <td>1</td>\n",
              "      <td>5</td>\n",
              "      <td>2011-04-27</td>\n",
              "      <td>good quality dog food</td>\n",
              "      <td>bought several vitality canned dog food produc...</td>\n",
              "      <td>21</td>\n",
              "      <td>3</td>\n",
              "      <td>0</td>\n",
              "      <td>0</td>\n",
              "      <td>1</td>\n",
              "      <td>23</td>\n",
              "      <td>164</td>\n",
              "      <td>6.2</td>\n",
              "      <td>0.42</td>\n",
              "      <td>0.40</td>\n",
              "      <td>1</td>\n",
              "    </tr>\n",
              "    <tr>\n",
              "      <th>1</th>\n",
              "      <td>2</td>\n",
              "      <td>B00813GRG4</td>\n",
              "      <td>A1D87F6ZCVE5NK</td>\n",
              "      <td>0</td>\n",
              "      <td>0</td>\n",
              "      <td>1</td>\n",
              "      <td>2012-09-07</td>\n",
              "      <td>not as advertised</td>\n",
              "      <td>product arrived labeled jumbo salted peanutsth...</td>\n",
              "      <td>12</td>\n",
              "      <td>7</td>\n",
              "      <td>0</td>\n",
              "      <td>0</td>\n",
              "      <td>0</td>\n",
              "      <td>18</td>\n",
              "      <td>136</td>\n",
              "      <td>6.6</td>\n",
              "      <td>0.22</td>\n",
              "      <td>0.76</td>\n",
              "      <td>0</td>\n",
              "    </tr>\n",
              "    <tr>\n",
              "      <th>2</th>\n",
              "      <td>3</td>\n",
              "      <td>B000LQOCH0</td>\n",
              "      <td>ABXLMWJIXXAIN</td>\n",
              "      <td>1</td>\n",
              "      <td>1</td>\n",
              "      <td>4</td>\n",
              "      <td>2008-08-18</td>\n",
              "      <td>delight says it all</td>\n",
              "      <td>confection around centuries light pillowy citr...</td>\n",
              "      <td>42</td>\n",
              "      <td>18</td>\n",
              "      <td>0</td>\n",
              "      <td>0</td>\n",
              "      <td>2</td>\n",
              "      <td>40</td>\n",
              "      <td>285</td>\n",
              "      <td>6.1</td>\n",
              "      <td>0.19</td>\n",
              "      <td>0.55</td>\n",
              "      <td>1</td>\n",
              "    </tr>\n",
              "    <tr>\n",
              "      <th>3</th>\n",
              "      <td>4</td>\n",
              "      <td>B000UA0QIQ</td>\n",
              "      <td>A395BORC6FGVXV</td>\n",
              "      <td>3</td>\n",
              "      <td>3</td>\n",
              "      <td>2</td>\n",
              "      <td>2011-06-13</td>\n",
              "      <td>cough medicine</td>\n",
              "      <td>looking secret ingredient robitussin believe f...</td>\n",
              "      <td>15</td>\n",
              "      <td>5</td>\n",
              "      <td>0</td>\n",
              "      <td>0</td>\n",
              "      <td>4</td>\n",
              "      <td>18</td>\n",
              "      <td>128</td>\n",
              "      <td>6.2</td>\n",
              "      <td>0.15</td>\n",
              "      <td>0.65</td>\n",
              "      <td>0</td>\n",
              "    </tr>\n",
              "    <tr>\n",
              "      <th>4</th>\n",
              "      <td>5</td>\n",
              "      <td>B006K2ZZ7K</td>\n",
              "      <td>A1UQRSCLF8GW1T</td>\n",
              "      <td>0</td>\n",
              "      <td>0</td>\n",
              "      <td>5</td>\n",
              "      <td>2012-10-21</td>\n",
              "      <td>great taffy</td>\n",
              "      <td>great taffy great price wide assortment yummy ...</td>\n",
              "      <td>12</td>\n",
              "      <td>5</td>\n",
              "      <td>0</td>\n",
              "      <td>0</td>\n",
              "      <td>0</td>\n",
              "      <td>13</td>\n",
              "      <td>83</td>\n",
              "      <td>5.5</td>\n",
              "      <td>0.46</td>\n",
              "      <td>0.60</td>\n",
              "      <td>1</td>\n",
              "    </tr>\n",
              "  </tbody>\n",
              "</table>\n",
              "</div>\n",
              "      <button class=\"colab-df-convert\" onclick=\"convertToInteractive('df-13ebb27e-079b-4115-88ca-99a1896ff703')\"\n",
              "              title=\"Convert this dataframe to an interactive table.\"\n",
              "              style=\"display:none;\">\n",
              "        \n",
              "  <svg xmlns=\"http://www.w3.org/2000/svg\" height=\"24px\"viewBox=\"0 0 24 24\"\n",
              "       width=\"24px\">\n",
              "    <path d=\"M0 0h24v24H0V0z\" fill=\"none\"/>\n",
              "    <path d=\"M18.56 5.44l.94 2.06.94-2.06 2.06-.94-2.06-.94-.94-2.06-.94 2.06-2.06.94zm-11 1L8.5 8.5l.94-2.06 2.06-.94-2.06-.94L8.5 2.5l-.94 2.06-2.06.94zm10 10l.94 2.06.94-2.06 2.06-.94-2.06-.94-.94-2.06-.94 2.06-2.06.94z\"/><path d=\"M17.41 7.96l-1.37-1.37c-.4-.4-.92-.59-1.43-.59-.52 0-1.04.2-1.43.59L10.3 9.45l-7.72 7.72c-.78.78-.78 2.05 0 2.83L4 21.41c.39.39.9.59 1.41.59.51 0 1.02-.2 1.41-.59l7.78-7.78 2.81-2.81c.8-.78.8-2.07 0-2.86zM5.41 20L4 18.59l7.72-7.72 1.47 1.35L5.41 20z\"/>\n",
              "  </svg>\n",
              "      </button>\n",
              "      \n",
              "  <style>\n",
              "    .colab-df-container {\n",
              "      display:flex;\n",
              "      flex-wrap:wrap;\n",
              "      gap: 12px;\n",
              "    }\n",
              "\n",
              "    .colab-df-convert {\n",
              "      background-color: #E8F0FE;\n",
              "      border: none;\n",
              "      border-radius: 50%;\n",
              "      cursor: pointer;\n",
              "      display: none;\n",
              "      fill: #1967D2;\n",
              "      height: 32px;\n",
              "      padding: 0 0 0 0;\n",
              "      width: 32px;\n",
              "    }\n",
              "\n",
              "    .colab-df-convert:hover {\n",
              "      background-color: #E2EBFA;\n",
              "      box-shadow: 0px 1px 2px rgba(60, 64, 67, 0.3), 0px 1px 3px 1px rgba(60, 64, 67, 0.15);\n",
              "      fill: #174EA6;\n",
              "    }\n",
              "\n",
              "    [theme=dark] .colab-df-convert {\n",
              "      background-color: #3B4455;\n",
              "      fill: #D2E3FC;\n",
              "    }\n",
              "\n",
              "    [theme=dark] .colab-df-convert:hover {\n",
              "      background-color: #434B5C;\n",
              "      box-shadow: 0px 1px 3px 1px rgba(0, 0, 0, 0.15);\n",
              "      filter: drop-shadow(0px 1px 2px rgba(0, 0, 0, 0.3));\n",
              "      fill: #FFFFFF;\n",
              "    }\n",
              "  </style>\n",
              "\n",
              "      <script>\n",
              "        const buttonEl =\n",
              "          document.querySelector('#df-13ebb27e-079b-4115-88ca-99a1896ff703 button.colab-df-convert');\n",
              "        buttonEl.style.display =\n",
              "          google.colab.kernel.accessAllowed ? 'block' : 'none';\n",
              "\n",
              "        async function convertToInteractive(key) {\n",
              "          const element = document.querySelector('#df-13ebb27e-079b-4115-88ca-99a1896ff703');\n",
              "          const dataTable =\n",
              "            await google.colab.kernel.invokeFunction('convertToInteractive',\n",
              "                                                     [key], {});\n",
              "          if (!dataTable) return;\n",
              "\n",
              "          const docLinkHtml = 'Like what you see? Visit the ' +\n",
              "            '<a target=\"_blank\" href=https://colab.research.google.com/notebooks/data_table.ipynb>data table notebook</a>'\n",
              "            + ' to learn more about interactive tables.';\n",
              "          element.innerHTML = '';\n",
              "          dataTable['output_type'] = 'display_data';\n",
              "          await google.colab.output.renderOutput(dataTable, element);\n",
              "          const docLink = document.createElement('div');\n",
              "          docLink.innerHTML = docLinkHtml;\n",
              "          element.appendChild(docLink);\n",
              "        }\n",
              "      </script>\n",
              "    </div>\n",
              "  </div>\n",
              "  "
            ]
          },
          "metadata": {},
          "execution_count": 3
        }
      ]
    },
    {
      "cell_type": "code",
      "source": [
        "print(len(df))\n",
        "print(df.Id.nunique())\n",
        "print(df.UserId.nunique())"
      ],
      "metadata": {
        "colab": {
          "base_uri": "https://localhost:8080/"
        },
        "id": "b6CJQurmL1tp",
        "outputId": "9a9476d2-5e26-4da7-f449-97f23a105e3d"
      },
      "execution_count": 4,
      "outputs": [
        {
          "output_type": "stream",
          "name": "stdout",
          "text": [
            "568411\n",
            "568411\n",
            "256047\n"
          ]
        }
      ]
    },
    {
      "cell_type": "code",
      "source": [
        "n = df.groupby('UserId').agg({'Id' : len}).rename(columns={'Id': 'Reviews'}).sort_values(by='Reviews', ascending=False)\n",
        "n"
      ],
      "metadata": {
        "colab": {
          "base_uri": "https://localhost:8080/",
          "height": 455
        },
        "id": "SU4G6buRMlRB",
        "outputId": "c306c3d5-e4c1-4d48-f045-57baf5589249"
      },
      "execution_count": 5,
      "outputs": [
        {
          "output_type": "execute_result",
          "data": {
            "text/plain": [
              "                Reviews\n",
              "UserId                 \n",
              "A3OXHLG6DIBRW8      448\n",
              "A1YUL9PCJR3JTY      421\n",
              "AY12DBB0U420B       389\n",
              "A281NPSIMI1C2R      365\n",
              "A1Z54EM24Y40LL      256\n",
              "...                 ...\n",
              "A2HROR28DMJV2W        1\n",
              "A2HRR8CO2Y20G8        1\n",
              "A2HRSML93IK9TR        1\n",
              "A2HRSUTNPGUU3G        1\n",
              "AZZZOVIBXHGDR         1\n",
              "\n",
              "[256047 rows x 1 columns]"
            ],
            "text/html": [
              "\n",
              "  <div id=\"df-ea41b832-2bd2-4eb8-9cc6-38e55415271a\">\n",
              "    <div class=\"colab-df-container\">\n",
              "      <div>\n",
              "<style scoped>\n",
              "    .dataframe tbody tr th:only-of-type {\n",
              "        vertical-align: middle;\n",
              "    }\n",
              "\n",
              "    .dataframe tbody tr th {\n",
              "        vertical-align: top;\n",
              "    }\n",
              "\n",
              "    .dataframe thead th {\n",
              "        text-align: right;\n",
              "    }\n",
              "</style>\n",
              "<table border=\"1\" class=\"dataframe\">\n",
              "  <thead>\n",
              "    <tr style=\"text-align: right;\">\n",
              "      <th></th>\n",
              "      <th>Reviews</th>\n",
              "    </tr>\n",
              "    <tr>\n",
              "      <th>UserId</th>\n",
              "      <th></th>\n",
              "    </tr>\n",
              "  </thead>\n",
              "  <tbody>\n",
              "    <tr>\n",
              "      <th>A3OXHLG6DIBRW8</th>\n",
              "      <td>448</td>\n",
              "    </tr>\n",
              "    <tr>\n",
              "      <th>A1YUL9PCJR3JTY</th>\n",
              "      <td>421</td>\n",
              "    </tr>\n",
              "    <tr>\n",
              "      <th>AY12DBB0U420B</th>\n",
              "      <td>389</td>\n",
              "    </tr>\n",
              "    <tr>\n",
              "      <th>A281NPSIMI1C2R</th>\n",
              "      <td>365</td>\n",
              "    </tr>\n",
              "    <tr>\n",
              "      <th>A1Z54EM24Y40LL</th>\n",
              "      <td>256</td>\n",
              "    </tr>\n",
              "    <tr>\n",
              "      <th>...</th>\n",
              "      <td>...</td>\n",
              "    </tr>\n",
              "    <tr>\n",
              "      <th>A2HROR28DMJV2W</th>\n",
              "      <td>1</td>\n",
              "    </tr>\n",
              "    <tr>\n",
              "      <th>A2HRR8CO2Y20G8</th>\n",
              "      <td>1</td>\n",
              "    </tr>\n",
              "    <tr>\n",
              "      <th>A2HRSML93IK9TR</th>\n",
              "      <td>1</td>\n",
              "    </tr>\n",
              "    <tr>\n",
              "      <th>A2HRSUTNPGUU3G</th>\n",
              "      <td>1</td>\n",
              "    </tr>\n",
              "    <tr>\n",
              "      <th>AZZZOVIBXHGDR</th>\n",
              "      <td>1</td>\n",
              "    </tr>\n",
              "  </tbody>\n",
              "</table>\n",
              "<p>256047 rows × 1 columns</p>\n",
              "</div>\n",
              "      <button class=\"colab-df-convert\" onclick=\"convertToInteractive('df-ea41b832-2bd2-4eb8-9cc6-38e55415271a')\"\n",
              "              title=\"Convert this dataframe to an interactive table.\"\n",
              "              style=\"display:none;\">\n",
              "        \n",
              "  <svg xmlns=\"http://www.w3.org/2000/svg\" height=\"24px\"viewBox=\"0 0 24 24\"\n",
              "       width=\"24px\">\n",
              "    <path d=\"M0 0h24v24H0V0z\" fill=\"none\"/>\n",
              "    <path d=\"M18.56 5.44l.94 2.06.94-2.06 2.06-.94-2.06-.94-.94-2.06-.94 2.06-2.06.94zm-11 1L8.5 8.5l.94-2.06 2.06-.94-2.06-.94L8.5 2.5l-.94 2.06-2.06.94zm10 10l.94 2.06.94-2.06 2.06-.94-2.06-.94-.94-2.06-.94 2.06-2.06.94z\"/><path d=\"M17.41 7.96l-1.37-1.37c-.4-.4-.92-.59-1.43-.59-.52 0-1.04.2-1.43.59L10.3 9.45l-7.72 7.72c-.78.78-.78 2.05 0 2.83L4 21.41c.39.39.9.59 1.41.59.51 0 1.02-.2 1.41-.59l7.78-7.78 2.81-2.81c.8-.78.8-2.07 0-2.86zM5.41 20L4 18.59l7.72-7.72 1.47 1.35L5.41 20z\"/>\n",
              "  </svg>\n",
              "      </button>\n",
              "      \n",
              "  <style>\n",
              "    .colab-df-container {\n",
              "      display:flex;\n",
              "      flex-wrap:wrap;\n",
              "      gap: 12px;\n",
              "    }\n",
              "\n",
              "    .colab-df-convert {\n",
              "      background-color: #E8F0FE;\n",
              "      border: none;\n",
              "      border-radius: 50%;\n",
              "      cursor: pointer;\n",
              "      display: none;\n",
              "      fill: #1967D2;\n",
              "      height: 32px;\n",
              "      padding: 0 0 0 0;\n",
              "      width: 32px;\n",
              "    }\n",
              "\n",
              "    .colab-df-convert:hover {\n",
              "      background-color: #E2EBFA;\n",
              "      box-shadow: 0px 1px 2px rgba(60, 64, 67, 0.3), 0px 1px 3px 1px rgba(60, 64, 67, 0.15);\n",
              "      fill: #174EA6;\n",
              "    }\n",
              "\n",
              "    [theme=dark] .colab-df-convert {\n",
              "      background-color: #3B4455;\n",
              "      fill: #D2E3FC;\n",
              "    }\n",
              "\n",
              "    [theme=dark] .colab-df-convert:hover {\n",
              "      background-color: #434B5C;\n",
              "      box-shadow: 0px 1px 3px 1px rgba(0, 0, 0, 0.15);\n",
              "      filter: drop-shadow(0px 1px 2px rgba(0, 0, 0, 0.3));\n",
              "      fill: #FFFFFF;\n",
              "    }\n",
              "  </style>\n",
              "\n",
              "      <script>\n",
              "        const buttonEl =\n",
              "          document.querySelector('#df-ea41b832-2bd2-4eb8-9cc6-38e55415271a button.colab-df-convert');\n",
              "        buttonEl.style.display =\n",
              "          google.colab.kernel.accessAllowed ? 'block' : 'none';\n",
              "\n",
              "        async function convertToInteractive(key) {\n",
              "          const element = document.querySelector('#df-ea41b832-2bd2-4eb8-9cc6-38e55415271a');\n",
              "          const dataTable =\n",
              "            await google.colab.kernel.invokeFunction('convertToInteractive',\n",
              "                                                     [key], {});\n",
              "          if (!dataTable) return;\n",
              "\n",
              "          const docLinkHtml = 'Like what you see? Visit the ' +\n",
              "            '<a target=\"_blank\" href=https://colab.research.google.com/notebooks/data_table.ipynb>data table notebook</a>'\n",
              "            + ' to learn more about interactive tables.';\n",
              "          element.innerHTML = '';\n",
              "          dataTable['output_type'] = 'display_data';\n",
              "          await google.colab.output.renderOutput(dataTable, element);\n",
              "          const docLink = document.createElement('div');\n",
              "          docLink.innerHTML = docLinkHtml;\n",
              "          element.appendChild(docLink);\n",
              "        }\n",
              "      </script>\n",
              "    </div>\n",
              "  </div>\n",
              "  "
            ]
          },
          "metadata": {},
          "execution_count": 5
        }
      ]
    },
    {
      "cell_type": "code",
      "source": [
        "df.info()"
      ],
      "metadata": {
        "colab": {
          "base_uri": "https://localhost:8080/"
        },
        "id": "w6sSm7iiM4ro",
        "outputId": "e4a30e2a-408a-4229-a99f-a3931ae6dc93"
      },
      "execution_count": 6,
      "outputs": [
        {
          "output_type": "stream",
          "name": "stdout",
          "text": [
            "<class 'pandas.core.frame.DataFrame'>\n",
            "RangeIndex: 568411 entries, 0 to 568410\n",
            "Data columns (total 20 columns):\n",
            " #   Column                  Non-Null Count   Dtype  \n",
            "---  ------                  --------------   -----  \n",
            " 0   Id                      568411 non-null  int64  \n",
            " 1   ProductId               568411 non-null  object \n",
            " 2   UserId                  568411 non-null  object \n",
            " 3   HelpfulnessNumerator    568411 non-null  int64  \n",
            " 4   HelpfulnessDenominator  568411 non-null  int64  \n",
            " 5   Score                   568411 non-null  int64  \n",
            " 6   Time                    568411 non-null  object \n",
            " 7   Summary                 567882 non-null  object \n",
            " 8   Text                    568411 non-null  object \n",
            " 9   stopwords               568411 non-null  int64  \n",
            " 10  punctuation             568411 non-null  int64  \n",
            " 11  hashtags                568411 non-null  int64  \n",
            " 12  numerics                568411 non-null  int64  \n",
            " 13  upper                   568411 non-null  int64  \n",
            " 14  word_count              568411 non-null  int64  \n",
            " 15  char_count              568411 non-null  int64  \n",
            " 16  avg_word                568411 non-null  float64\n",
            " 17  polarity                568411 non-null  float64\n",
            " 18  subjectivity            568411 non-null  float64\n",
            " 19  Good_reviews            568411 non-null  int64  \n",
            "dtypes: float64(3), int64(12), object(5)\n",
            "memory usage: 86.7+ MB\n"
          ]
        }
      ]
    },
    {
      "cell_type": "code",
      "source": [
        "plt.figure(figsize=(18, 6))\n",
        "sns.distplot(df.HelpfulnessNumerator[df.HelpfulnessNumerator <= 20])"
      ],
      "metadata": {
        "colab": {
          "base_uri": "https://localhost:8080/",
          "height": 460
        },
        "id": "hP7COTKkSs0F",
        "outputId": "aed1cd24-7a76-44fc-f1eb-ac5582074c0f"
      },
      "execution_count": 7,
      "outputs": [
        {
          "output_type": "stream",
          "name": "stderr",
          "text": [
            "/usr/local/lib/python3.7/dist-packages/seaborn/distributions.py:2619: FutureWarning: `distplot` is a deprecated function and will be removed in a future version. Please adapt your code to use either `displot` (a figure-level function with similar flexibility) or `histplot` (an axes-level function for histograms).\n",
            "  warnings.warn(msg, FutureWarning)\n"
          ]
        },
        {
          "output_type": "execute_result",
          "data": {
            "text/plain": [
              "<matplotlib.axes._subplots.AxesSubplot at 0x7fc4c585dd10>"
            ]
          },
          "metadata": {},
          "execution_count": 7
        },
        {
          "output_type": "display_data",
          "data": {
            "text/plain": [
              "<Figure size 1296x432 with 1 Axes>"
            ],
            "image/png": "[encoded data removed]"
          },
          "metadata": {
            "needs_background": "light"
          }
        }
      ]
    },
    {
      "cell_type": "code",
      "source": [
        "plt.figure(figsize=(18, 6))\n",
        "sns.boxplot(x=df.HelpfulnessNumerator[df.HelpfulnessNumerator <= 20])"
      ],
      "metadata": {
        "colab": {
          "base_uri": "https://localhost:8080/",
          "height": 405
        },
        "id": "GgzcBHJvSsxi",
        "outputId": "1f292105-2130-4553-de9c-f18c9483a422"
      },
      "execution_count": 8,
      "outputs": [
        {
          "output_type": "execute_result",
          "data": {
            "text/plain": [
              "<matplotlib.axes._subplots.AxesSubplot at 0x7fc4ba21fbd0>"
            ]
          },
          "metadata": {},
          "execution_count": 8
        },
        {
          "output_type": "display_data",
          "data": {
            "text/plain": [
              "<Figure size 1296x432 with 1 Axes>"
            ],
            "image/png": "[encoded data removed]"
          },
          "metadata": {
            "needs_background": "light"
          }
        }
      ]
    },
    {
      "cell_type": "code",
      "source": [
        "df.Text = df.Text.astype(str)"
      ],
      "metadata": {
        "id": "Q-mG86GdN1HS"
      },
      "execution_count": 9,
      "outputs": []
    },
    {
      "cell_type": "code",
      "source": [
        "y = df.HelpfulnessNumerator[df.HelpfulnessNumerator <= 20]\n",
        "X = df.Text[df.HelpfulnessNumerator <= 20]"
      ],
      "metadata": {
        "id": "W3V8Fx-KbZYo"
      },
      "execution_count": 10,
      "outputs": []
    },
    {
      "cell_type": "code",
      "source": [
        "print(X.shape)\n",
        "print(y.shape)"
      ],
      "metadata": {
        "colab": {
          "base_uri": "https://localhost:8080/"
        },
        "id": "XZD8mpF6bi4g",
        "outputId": "40df900b-7773-4a97-8cae-3faee075661d"
      },
      "execution_count": 11,
      "outputs": [
        {
          "output_type": "stream",
          "name": "stdout",
          "text": [
            "(563246,)\n",
            "(563246,)\n"
          ]
        }
      ]
    },
    {
      "cell_type": "markdown",
      "source": [
        "## Text Preprocessing \n",
        "* Tokenizing"
      ],
      "metadata": {
        "id": "S9FZ7qowyhvv"
      }
    },
    {
      "cell_type": "code",
      "source": [
        "from sklearn.feature_extraction.text import CountVectorizer\n",
        "count_vec = CountVectorizer()\n",
        "X_count = count_vec.fit_transform(X)"
      ],
      "metadata": {
        "id": "dW3RHXOayTZB"
      },
      "execution_count": 12,
      "outputs": []
    },
    {
      "cell_type": "code",
      "source": [
        "X_count.shape "
      ],
      "metadata": {
        "colab": {
          "base_uri": "https://localhost:8080/"
        },
        "id": "TBIRFBjRyTWl",
        "outputId": "59c7ad6c-4784-4bc3-f290-0cd01a19760e"
      },
      "execution_count": 13,
      "outputs": [
        {
          "output_type": "execute_result",
          "data": {
            "text/plain": [
              "(563246, 211503)"
            ]
          },
          "metadata": {},
          "execution_count": 13
        }
      ]
    },
    {
      "cell_type": "code",
      "source": [
        "from sklearn.model_selection import train_test_split\n",
        "\n",
        "\n",
        "X_train, X_test, y_train, y_test = train_test_split(X_count, y, train_size=0.7)\n",
        "\n",
        "print(X_train.shape)\n",
        "print(X_test.shape)"
      ],
      "metadata": {
        "colab": {
          "base_uri": "https://localhost:8080/"
        },
        "id": "8vI0ePixN8ck",
        "outputId": "60a48d5f-04bb-4571-d5fa-eefe78739e63"
      },
      "execution_count": 14,
      "outputs": [
        {
          "output_type": "stream",
          "name": "stdout",
          "text": [
            "(394272, 211503)\n",
            "(168974, 211503)\n"
          ]
        }
      ]
    },
    {
      "cell_type": "code",
      "source": [
        "from sklearn.feature_extraction.text import TfidfTransformer\n",
        "tf_transformer = TfidfTransformer(use_idf=False)\n",
        "X_train_tf = tf_transformer.fit_transform(X_train)\n",
        "X_test_tf = tf_transformer.fit_transform(X_test)"
      ],
      "metadata": {
        "id": "vX7ANGsxzStW"
      },
      "execution_count": 15,
      "outputs": []
    },
    {
      "cell_type": "code",
      "source": [
        "from sklearn.preprocessing import StandardScaler\n",
        "\n",
        "sc = StandardScaler(with_mean=False)\n",
        "X_train_tf= sc.fit_transform(X_train_tf)\n",
        "X_test_tf= sc.transform(X_test_tf)"
      ],
      "metadata": {
        "id": "2oe0N-ra1CvW"
      },
      "execution_count": 20,
      "outputs": []
    },
    {
      "cell_type": "code",
      "source": [
        "# Base Model\n",
        "from sklearn.naive_bayes import MultinomialNB\n",
        "from sklearn.metrics import accuracy_score, precision_score, recall_score, f1_score, confusion_matrix\n",
        "\n",
        "clf = MultinomialNB()\n",
        "\n",
        "clf.fit(X_train_tf, y_train)\n",
        "\n",
        "train_preds = clf.predict(X_train_tf)\n",
        "test_preds = clf.predict(X_test_tf)\n",
        "\n",
        "train_acc = accuracy_score(y_train, train_preds)\n",
        "test_acc = accuracy_score(y_test, test_preds)\n",
        "\n",
        "print(train_acc)\n",
        "print(test_acc)"
      ],
      "metadata": {
        "colab": {
          "base_uri": "https://localhost:8080/"
        },
        "id": "lQi2K51zSay5",
        "outputId": "63ab912c-0be1-4220-88dc-000957aafc13"
      },
      "execution_count": 21,
      "outputs": [
        {
          "output_type": "stream",
          "name": "stdout",
          "text": [
            "0.6209393515136759\n",
            "0.4327056233503379\n"
          ]
        }
      ]
    },
    {
      "cell_type": "code",
      "source": [
        "# Base Model\n",
        "from sklearn.linear_model import SGDClassifier\n",
        "\n",
        "clf = SGDClassifier()\n",
        "\n",
        "clf.fit(X_train_tf, y_train)\n",
        "\n",
        "train_preds = clf.predict(X_train_tf)\n",
        "test_preds = clf.predict(X_test_tf)\n",
        "\n",
        "train_acc = accuracy_score(y_train, train_preds)\n",
        "test_acc = accuracy_score(y_test, test_preds)\n",
        "\n",
        "print(train_acc)\n",
        "print(test_acc)"
      ],
      "metadata": {
        "id": "PK2poMYG3yDY"
      },
      "execution_count": null,
      "outputs": []
    },
    {
      "cell_type": "markdown",
      "source": [
        "### Creating helpfulness_level feature"
      ],
      "metadata": {
        "id": "JvOTSWUuBbFj"
      }
    },
    {
      "cell_type": "code",
      "source": [
        "df = df[df.HelpfulnessNumerator <= 20]"
      ],
      "metadata": {
        "id": "x8xV47TdAXpw"
      },
      "execution_count": null,
      "outputs": []
    },
    {
      "cell_type": "code",
      "source": [
        "df['helpfulness_level'] = pd.cut(df.HelpfulnessNumerator, bins=[-1, 0, 5, 10, 15, 20], labels=[0, 1, 2, 3, 4])"
      ],
      "metadata": {
        "id": "kdiyL46MDrPA"
      },
      "execution_count": 53,
      "outputs": []
    },
    {
      "cell_type": "code",
      "source": [
        "df.helpfulness_level.value_counts()"
      ],
      "metadata": {
        "colab": {
          "base_uri": "https://localhost:8080/"
        },
        "id": "jTmSFYHGE_vb",
        "outputId": "0492d3b4-74dc-4b26-c233-27dffc3cbb90"
      },
      "execution_count": 54,
      "outputs": [
        {
          "output_type": "execute_result",
          "data": {
            "text/plain": [
              "0    303813\n",
              "1    227597\n",
              "2     22211\n",
              "3      6667\n",
              "4      2958\n",
              "Name: helpfulness_level, dtype: int64"
            ]
          },
          "metadata": {},
          "execution_count": 54
        }
      ]
    },
    {
      "cell_type": "code",
      "source": [
        "y = df.helpfulness_level\n",
        "X = df.Text"
      ],
      "metadata": {
        "id": "fWwVLuctJJtz"
      },
      "execution_count": 62,
      "outputs": []
    },
    {
      "cell_type": "code",
      "source": [
        "count_vec = CountVectorizer()\n",
        "X_count = count_vec.fit_transform(X)"
      ],
      "metadata": {
        "id": "qb3K77D2JVVi"
      },
      "execution_count": 63,
      "outputs": []
    },
    {
      "cell_type": "code",
      "source": [
        "X_train, X_test, y_train, y_test = train_test_split(X_count, y, train_size=0.7)\n",
        "\n",
        "print(X_train.shape)\n",
        "print(X_test.shape)"
      ],
      "metadata": {
        "colab": {
          "base_uri": "https://localhost:8080/"
        },
        "id": "Lz4umwhDJVRW",
        "outputId": "69d26eac-d5e3-48a9-d766-6a7660e7402e"
      },
      "execution_count": 64,
      "outputs": [
        {
          "output_type": "stream",
          "name": "stdout",
          "text": [
            "(394272, 211503)\n",
            "(168974, 211503)\n"
          ]
        }
      ]
    },
    {
      "cell_type": "code",
      "source": [
        "tf_transformer = TfidfTransformer(use_idf=False)\n",
        "X_train_tf = tf_transformer.fit_transform(X_train)\n",
        "X_test_tf = tf_transformer.fit_transform(X_test)"
      ],
      "metadata": {
        "id": "xrkgh9Y0JVKb"
      },
      "execution_count": 65,
      "outputs": []
    },
    {
      "cell_type": "code",
      "source": [
        "sc = StandardScaler(with_mean=False)\n",
        "X_train_tf= sc.fit_transform(X_train_tf)\n",
        "X_test_tf= sc.transform(X_test_tf)"
      ],
      "metadata": {
        "id": "Lt9FhrJPJqN7"
      },
      "execution_count": 66,
      "outputs": []
    },
    {
      "cell_type": "code",
      "source": [
        "clf = MultinomialNB()\n",
        "\n",
        "clf.fit(X_train_tf, y_train)\n",
        "\n",
        "train_preds = clf.predict(X_train_tf)\n",
        "test_preds = clf.predict(X_test_tf)\n",
        "\n",
        "train_acc = accuracy_score(y_train, train_preds)\n",
        "test_acc = accuracy_score(y_test, test_preds)\n",
        "\n",
        "print(train_acc)\n",
        "print(test_acc)"
      ],
      "metadata": {
        "colab": {
          "base_uri": "https://localhost:8080/"
        },
        "id": "Z01ZF0DqJyF-",
        "outputId": "dd924757-28fd-4807-eab1-2ecc4bbef8a2"
      },
      "execution_count": 67,
      "outputs": [
        {
          "output_type": "stream",
          "name": "stdout",
          "text": [
            "0.7061470254037822\n",
            "0.5637967971403884\n"
          ]
        }
      ]
    },
    {
      "cell_type": "code",
      "source": [
        "clf = SGDClassifier()\n",
        "\n",
        "clf.fit(X_train_tf, y_train)\n",
        "\n",
        "train_preds = clf.predict(X_train_tf)\n",
        "test_preds = clf.predict(X_test_tf)\n",
        "\n",
        "train_acc = accuracy_score(y_train, train_preds)\n",
        "test_acc = accuracy_score(y_test, test_preds)\n",
        "\n",
        "print(train_acc)\n",
        "print(test_acc)"
      ],
      "metadata": {
        "colab": {
          "base_uri": "https://localhost:8080/"
        },
        "id": "XOW8eeVPJzMZ",
        "outputId": "67d95af5-cd17-4602-fb71-7951733de009"
      },
      "execution_count": 68,
      "outputs": [
        {
          "output_type": "stream",
          "name": "stdout",
          "text": [
            "0.8041326799772746\n",
            "0.6160533573212447\n"
          ]
        }
      ]
    },
    {
      "cell_type": "code",
      "source": [
        "confusion_matrix(y_test, test_preds)"
      ],
      "metadata": {
        "colab": {
          "base_uri": "https://localhost:8080/"
        },
        "id": "Ii5AxKWDJ36p",
        "outputId": "eef09413-9712-47da-8a7a-687502dd2455"
      },
      "execution_count": 74,
      "outputs": [
        {
          "output_type": "execute_result",
          "data": {
            "text/plain": [
              "array([[66171, 21630,  2102,   958,   371],\n",
              "       [29835, 34979,  2078,   930,   349],\n",
              "       [ 2291,  2296,  1938,   132,    49],\n",
              "       [  541,   602,   101,   660,    22],\n",
              "       [  228,   284,    56,    22,   349]])"
            ]
          },
          "metadata": {},
          "execution_count": 74
        }
      ]
    },
    {
      "cell_type": "code",
      "source": [
        ""
      ],
      "metadata": {
        "id": "vnSRdFmoKupd"
      },
      "execution_count": null,
      "outputs": []
    }
  ]
}